{
  "cells": [
    {
      "cell_type": "code",
      "execution_count": 1,
      "metadata": {
        "id": "egXnTG77oyLp"
      },
      "outputs": [],
      "source": [
        "!cp -r /content/drive/MyDrive/DERMNET/AnnotateDataset.zip ./"
      ]
    },
    {
      "cell_type": "code",
      "execution_count": null,
      "metadata": {
        "id": "jY9Db-uCo40b"
      },
      "outputs": [],
      "source": [
        "!unzip AnnotateDataset.zip"
      ]
    },
    {
      "cell_type": "code",
      "execution_count": 1,
      "metadata": {
        "id": "MfFuoWUppS-_"
      },
      "outputs": [],
      "source": [
        "!pip install -q tflite-model-maker\n",
        "!pip install -q tflite-support"
      ]
    },
    {
      "cell_type": "code",
      "execution_count": 2,
      "metadata": {
        "id": "cmx-fMRapKGy"
      },
      "outputs": [],
      "source": [
        "import numpy as np\n",
        "import os\n",
        "\n",
        "from tflite_model_maker.config import ExportFormat, QuantizationConfig\n",
        "from tflite_model_maker import model_spec\n",
        "from tflite_model_maker import object_detector\n",
        "\n",
        "from tflite_support import metadata\n",
        "\n",
        "import tensorflow as tf\n",
        "assert tf.__version__.startswith('2')\n",
        "\n",
        "tf.get_logger().setLevel('ERROR')\n",
        "from absl import logging\n",
        "logging.set_verbosity(logging.ERROR)"
      ]
    },
    {
      "cell_type": "code",
      "execution_count": 3,
      "metadata": {
        "id": "J123ZVmLqOyf"
      },
      "outputs": [],
      "source": [
        "spec = model_spec.get('efficientdet_lite4')"
      ]
    },
    {
      "cell_type": "code",
      "execution_count": 4,
      "metadata": {
        "id": "oT8AeoPbqeA8"
      },
      "outputs": [],
      "source": [
        "import glob\n",
        "import shutil\n",
        "import os\n",
        "\n",
        "src_dir = \"Dataset/train/**\"\n",
        "dst_dir = \"Dataset/train\"\n",
        "for jpgfile in glob.iglob(os.path.join(src_dir, \"*.jpg\")):\n",
        "    shutil.move(jpgfile, dst_dir)"
      ]
    },
    {
      "cell_type": "code",
      "execution_count": 7,
      "metadata": {
        "id": "Y2qUgawOsAWW"
      },
      "outputs": [],
      "source": [
        "import glob\n",
        "import shutil\n",
        "import os\n",
        "\n",
        "src_dir = \"Dataset/train/**\"\n",
        "dst_dir = \"Dataset/train\"\n",
        "for jpgfile in glob.iglob(os.path.join(src_dir, \"*.xml\")):\n",
        "    shutil.move(jpgfile, dst_dir)"
      ]
    },
    {
      "cell_type": "code",
      "execution_count": 8,
      "metadata": {
        "id": "td_N1bhjsCcX"
      },
      "outputs": [],
      "source": [
        "import glob\n",
        "import shutil\n",
        "import os\n",
        "\n",
        "src_dir = \"Dataset/val/**\"\n",
        "dst_dir = \"Dataset/val\"\n",
        "for jpgfile in glob.iglob(os.path.join(src_dir, \"*.jpg\")):\n",
        "    shutil.move(jpgfile, dst_dir)"
      ]
    },
    {
      "cell_type": "code",
      "execution_count": 9,
      "metadata": {
        "id": "d-WrxDufsGxJ"
      },
      "outputs": [],
      "source": [
        "import glob\n",
        "import shutil\n",
        "import os\n",
        "\n",
        "src_dir = \"Dataset/val/**\"\n",
        "dst_dir = \"Dataset/val\"\n",
        "for jpgfile in glob.iglob(os.path.join(src_dir, \"*.xml\")):\n",
        "    shutil.move(jpgfile, dst_dir)"
      ]
    },
    {
      "cell_type": "code",
      "execution_count": 10,
      "metadata": {
        "id": "4DmLrS0vsLpS"
      },
      "outputs": [],
      "source": [
        "for i in [\"Acne\", \"Herpes\", \"Melanoma\", \"NailFungus\", \"Psoraisis\", \"Scabies\", \"VascularTumor\", \"Wartz\"]:\n",
        "    os.rmdir(f\"Dataset/train/{i}\")\n",
        "    os.rmdir(f\"Dataset/val/{i}\")"
      ]
    },
    {
      "cell_type": "code",
      "execution_count": 5,
      "metadata": {
        "id": "QJGNnx-vtOO8"
      },
      "outputs": [],
      "source": [
        "train_data = object_detector.DataLoader.from_pascal_voc(\n",
        "    'Dataset/train',\n",
        "    'Dataset/train',\n",
        "    ['VascularTumor','Wartz','Psoraisis','NailFungus','Acne','Melanoma','Scabies','Herpes']\n",
        ")\n",
        "\n",
        "val_data = object_detector.DataLoader.from_pascal_voc(\n",
        "    'Dataset/val',\n",
        "    'Dataset/val',\n",
        "    ['VascularTumor','Wartz','Psoraisis','NailFungus','Acne','Melanoma','Scabies','Herpes']\n",
        ")"
      ]
    },
    {
      "cell_type": "code",
      "execution_count": null,
      "metadata": {
        "colab": {
          "base_uri": "https://localhost:8080/"
        },
        "id": "tQdoNls7qTgu",
        "outputId": "8b640101-9155-44b3-c21e-83578f8a85ee"
      },
      "outputs": [
        {
          "name": "stdout",
          "output_type": "stream",
          "text": [
            "Epoch 1/10\n",
            "1786/1786 [==============================] - 1681s 906ms/step - det_loss: 1.1478 - cls_loss: 0.7645 - box_loss: 0.0077 - reg_l2_loss: 0.1106 - loss: 1.2584 - learning_rate: 0.0065 - gradient_norm: 4.4038 - val_det_loss: 0.9490 - val_cls_loss: 0.6014 - val_box_loss: 0.0070 - val_reg_l2_loss: 0.1113 - val_loss: 1.0604\n",
            "Epoch 2/10\n",
            "1786/1786 [==============================] - 1617s 906ms/step - det_loss: 0.9495 - cls_loss: 0.6207 - box_loss: 0.0066 - reg_l2_loss: 0.1116 - loss: 1.0612 - learning_rate: 0.0047 - gradient_norm: 4.1021 - val_det_loss: 0.8098 - val_cls_loss: 0.5550 - val_box_loss: 0.0051 - val_reg_l2_loss: 0.1119 - val_loss: 0.9217\n",
            "Epoch 3/10\n",
            "1786/1786 [==============================] - 1618s 906ms/step - det_loss: 0.8929 - cls_loss: 0.5816 - box_loss: 0.0062 - reg_l2_loss: 0.1121 - loss: 1.0051 - learning_rate: 0.0041 - gradient_norm: 4.2496 - val_det_loss: 0.8821 - val_cls_loss: 0.5568 - val_box_loss: 0.0065 - val_reg_l2_loss: 0.1124 - val_loss: 0.9945\n",
            "Epoch 4/10\n",
            "1786/1786 [==============================] - 1619s 906ms/step - det_loss: 0.8461 - cls_loss: 0.5488 - box_loss: 0.0059 - reg_l2_loss: 0.1125 - loss: 0.9586 - learning_rate: 0.0034 - gradient_norm: 4.4826 - val_det_loss: 0.8818 - val_cls_loss: 0.5641 - val_box_loss: 0.0064 - val_reg_l2_loss: 0.1126 - val_loss: 0.9944\n",
            "Epoch 5/10\n",
            "1786/1786 [==============================] - 1674s 937ms/step - det_loss: 0.7970 - cls_loss: 0.5172 - box_loss: 0.0056 - reg_l2_loss: 0.1127 - loss: 0.9097 - learning_rate: 0.0025 - gradient_norm: 4.7716 - val_det_loss: 0.8140 - val_cls_loss: 0.5531 - val_box_loss: 0.0052 - val_reg_l2_loss: 0.1128 - val_loss: 0.9268\n",
            "Epoch 6/10\n",
            "1786/1786 [==============================] - 1619s 906ms/step - det_loss: 0.7582 - cls_loss: 0.4895 - box_loss: 0.0054 - reg_l2_loss: 0.1128 - loss: 0.8710 - learning_rate: 0.0016 - gradient_norm: 5.0383 - val_det_loss: 0.8320 - val_cls_loss: 0.5494 - val_box_loss: 0.0057 - val_reg_l2_loss: 0.1128 - val_loss: 0.9447\n",
            "Epoch 7/10\n",
            "1786/1786 [==============================] - 1618s 906ms/step - det_loss: 0.7179 - cls_loss: 0.4623 - box_loss: 0.0051 - reg_l2_loss: 0.1128 - loss: 0.8307 - learning_rate: 9.0119e-04 - gradient_norm: 5.5044 - val_det_loss: 0.7602 - val_cls_loss: 0.5193 - val_box_loss: 0.0048 - val_reg_l2_loss: 0.1127 - val_loss: 0.8730\n",
            "Epoch 8/10\n",
            "1786/1786 [==============================] - 1618s 906ms/step - det_loss: 0.6930 - cls_loss: 0.4461 - box_loss: 0.0049 - reg_l2_loss: 0.1127 - loss: 0.8058 - learning_rate: 3.4592e-04 - gradient_norm: 5.7899 - val_det_loss: 0.7448 - val_cls_loss: 0.5034 - val_box_loss: 0.0048 - val_reg_l2_loss: 0.1127 - val_loss: 0.8575\n",
            "Epoch 9/10\n",
            " 459/1786 [======>.......................] - ETA: 19:41 - det_loss: 0.6743 - cls_loss: 0.4341 - box_loss: 0.0048 - reg_l2_loss: 0.1127 - loss: 0.7870 - learning_rate: 1.1566e-04 - gradient_norm: 5.8687"
          ]
        }
      ],
      "source": [
        "model = object_detector.create(train_data, model_spec=spec, batch_size=4, train_whole_model=True, epochs=10, validation_data=val_data)"
      ]
    },
    {
      "cell_type": "code",
      "execution_count": null,
      "metadata": {
        "colab": {
          "base_uri": "https://localhost:8080/",
          "height": 205
        },
        "id": "EB6FSjvRqaA_",
        "outputId": "1def0516-f2cf-4eae-f7f3-c00ef5bc73bc"
      },
      "outputs": [],
      "source": [
        "model.evaluate(val_data)"
      ]
    },
    {
      "cell_type": "code",
      "execution_count": null,
      "metadata": {
        "id": "GWMQ9353zB2m"
      },
      "outputs": [],
      "source": [
        "model.export(export_dir='.', tflite_filename='android.tflite')"
      ]
    },
    {
      "cell_type": "code",
      "execution_count": null,
      "metadata": {
        "id": "-_NCP57AzDSO"
      },
      "outputs": [],
      "source": [
        "model.evaluate_tflite('android.tflite', val_data)"
      ]
    }
  ],
  "metadata": {
    "accelerator": "GPU",
    "colab": {
      "provenance": []
    },
    "gpuClass": "standard",
    "kernelspec": {
      "display_name": "Python 3",
      "name": "python3"
    },
    "language_info": {
      "name": "python"
    }
  },
  "nbformat": 4,
  "nbformat_minor": 0
}
